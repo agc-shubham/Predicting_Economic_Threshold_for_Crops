{
  "nbformat": 4,
  "nbformat_minor": 0,
  "metadata": {
    "colab": {
      "name": "MLProject.ipynb",
      "provenance": [],
      "collapsed_sections": [],
      "toc_visible": true
    },
    "kernelspec": {
      "name": "python3",
      "display_name": "Python 3"
    },
    "language_info": {
      "name": "python"
    }
  },
  "cells": [
    {
      "cell_type": "code",
      "metadata": {
        "id": "VqB3SOzkftW7"
      },
      "source": [
        "from bs4 import BeautifulSoup\n",
        "import requests\n",
        "import numpy as np\n",
        "import matplotlib.pyplot as plt\n",
        "import pandas as pd"
      ],
      "execution_count": 4,
      "outputs": []
    },
    {
      "cell_type": "code",
      "metadata": {
        "id": "eqzBPzONkf0E"
      },
      "source": [
        "res = requests.get('http://www.commoditiescontrol.com/live-cotton-price.html')\n",
        "html = res.text\n",
        "soup = BeautifulSoup(html,'html.parser')\n",
        "div = soup.find_all('div',{'class':'data_tbl'})\n",
        "trs = div[1].find_all('tr')\n",
        "print(trs[3].find('td').text)\n",
        "Live_cotton_Price = int(trs[3].find('td').text)"
      ],
      "execution_count": null,
      "outputs": []
    },
    {
      "cell_type": "code",
      "metadata": {
        "id": "8CQjVFyj5EfE"
      },
      "source": [
        "dataset = pd.read_excel('Book1.xlsx')\n",
        "print(dataset)"
      ],
      "execution_count": null,
      "outputs": []
    },
    {
      "cell_type": "code",
      "metadata": {
        "id": "S5WX-2nH7TYf"
      },
      "source": [
        "X = dataset.iloc[:, [1,2,3,4,5,6,7,8,9,10]].values\n",
        "y = dataset.iloc[:, [0]].values"
      ],
      "execution_count": 7,
      "outputs": []
    },
    {
      "cell_type": "code",
      "metadata": {
        "id": "2NIGwpJI7uQr"
      },
      "source": [
        "from sklearn.compose import ColumnTransformer\n",
        "from sklearn.preprocessing import OneHotEncoder\n",
        "ct=ColumnTransformer(transformers=[('encoder',OneHotEncoder(),[0])],remainder='passthrough')\n",
        "X=np.array(ct.fit_transform(X))"
      ],
      "execution_count": 8,
      "outputs": []
    },
    {
      "cell_type": "code",
      "metadata": {
        "id": "IfW5ezKB8fnn"
      },
      "source": [
        "df=pd.DataFrame(X)\n",
        "#print(df)\n",
        "df.to_csv(r'data.csv', index = False)"
      ],
      "execution_count": 9,
      "outputs": []
    },
    {
      "cell_type": "code",
      "metadata": {
        "id": "pEBNkJe-80rd"
      },
      "source": [
        "ct=ColumnTransformer(transformers=[('encoder',OneHotEncoder(),[3])],remainder='passthrough')\n",
        "X=np.array(ct.fit_transform(X))"
      ],
      "execution_count": 10,
      "outputs": []
    },
    {
      "cell_type": "code",
      "metadata": {
        "id": "v0x4VyFc85qc"
      },
      "source": [
        "df=pd.DataFrame(X)\n",
        "#print(df)\n",
        "df.to_csv(r'data1.csv', index = False)"
      ],
      "execution_count": 11,
      "outputs": []
    },
    {
      "cell_type": "code",
      "metadata": {
        "id": "7MCeRJ69CXw6"
      },
      "source": [
        "ct=ColumnTransformer(transformers=[('encoder',OneHotEncoder(),[11])],remainder='passthrough')\n",
        "X=np.array(ct.fit_transform(X))\n",
        "df=pd.DataFrame(X)\n",
        "#print(df)\n",
        "df.to_csv(r'data2.csv', index = False)"
      ],
      "execution_count": 12,
      "outputs": []
    },
    {
      "cell_type": "code",
      "metadata": {
        "id": "DiEb0h8c9OXn"
      },
      "source": [
        "y = y.reshape(len(y),1)"
      ],
      "execution_count": 13,
      "outputs": []
    },
    {
      "cell_type": "code",
      "metadata": {
        "id": "zECBQEIS9RLs"
      },
      "source": [
        "from sklearn.model_selection import train_test_split\n",
        "X_train, X_test, y_train, y_test = train_test_split(X, y, test_size = 0.3, random_state = 42)"
      ],
      "execution_count": 14,
      "outputs": []
    },
    {
      "cell_type": "code",
      "metadata": {
        "id": "p3q1rUQ59UXB"
      },
      "source": [
        "from sklearn.preprocessing import StandardScaler\n",
        "sc_X = StandardScaler()\n",
        "sc_y = StandardScaler()\n",
        "X_train = sc_X.fit_transform(X_train)\n",
        "y_train = sc_y.fit_transform(y_train)"
      ],
      "execution_count": 15,
      "outputs": []
    },
    {
      "cell_type": "code",
      "metadata": {
        "id": "4Vasacq2MPiU"
      },
      "source": [
        "# # Applying PCA\n",
        "# from sklearn.decomposition import PCA\n",
        "# pca = PCA(n_components = 2)\n",
        "# X_train = pca.fit_transform(X_train)\n",
        "# X_test = pca.transform(X_test)\n",
        "# explained_variance = pca.explained_variance_ratio_\n",
        "# print(explained_variance)"
      ],
      "execution_count": 16,
      "outputs": []
    },
    {
      "cell_type": "markdown",
      "metadata": {
        "id": "WKO8VkfRFBzS"
      },
      "source": [
        "## REGRESSION"
      ]
    },
    {
      "cell_type": "markdown",
      "metadata": {
        "id": "r7mQ4HOrGYoq"
      },
      "source": [
        "### Polynomial"
      ]
    },
    {
      "cell_type": "code",
      "metadata": {
        "id": "Gb0xfxeYFGAX"
      },
      "source": [
        "from sklearn.preprocessing import PolynomialFeatures\n",
        "from sklearn.linear_model import LinearRegression\n",
        "poly_reg = PolynomialFeatures(degree = 4)\n",
        "X_poly = poly_reg.fit_transform(X_train)\n",
        "regressor1 = LinearRegression()\n",
        "regressor1.fit(X_poly, y_train)"
      ],
      "execution_count": null,
      "outputs": []
    },
    {
      "cell_type": "code",
      "metadata": {
        "id": "EOrgs8weGhOI"
      },
      "source": [
        "y_pred1 = sc_y.inverse_transform(regressor1.predict(poly_reg.transform(sc_X.transform(X_test))))\n",
        "for ele in range(len(y_pred1)):\n",
        "  if(y_pred1[ele]<0):\n",
        "    y_pred1[ele] = 0\n",
        "# np.set_printoptions(precision=2)\n",
        "print(np.concatenate((y_pred1.reshape(len(y_pred1),1), y_test.reshape(len(y_test),1)),1))"
      ],
      "execution_count": null,
      "outputs": []
    },
    {
      "cell_type": "code",
      "metadata": {
        "id": "XYg_kXl_Gkyi"
      },
      "source": [
        "from sklearn.metrics import r2_score\n",
        "r2_score(y_test, y_pred1)"
      ],
      "execution_count": null,
      "outputs": []
    },
    {
      "cell_type": "markdown",
      "metadata": {
        "id": "jXBn2pFDE6lH"
      },
      "source": [
        "## SVM"
      ]
    },
    {
      "cell_type": "code",
      "metadata": {
        "id": "Wq5MG_ED9Wsr"
      },
      "source": [
        "from sklearn.svm import SVR\n",
        "regressor2 = SVR(kernel = 'rbf')\n",
        "regressor2.fit(X_train, y_train)"
      ],
      "execution_count": null,
      "outputs": []
    },
    {
      "cell_type": "code",
      "metadata": {
        "id": "3tsSrcHt9ZU5"
      },
      "source": [
        "y_pred2 = sc_y.inverse_transform(regressor2.predict(sc_X.transform(X_test)))\n",
        "for ele in range(len(y_pred2)):\n",
        "  if(y_pred2[ele]<0):\n",
        "    y_pred2[ele] = 0\n",
        "np.set_printoptions(precision=2)\n",
        "print(np.concatenate((y_pred2.reshape(len(y_pred2),1), y_test.reshape(len(y_test),1)),1))"
      ],
      "execution_count": null,
      "outputs": []
    },
    {
      "cell_type": "code",
      "metadata": {
        "id": "OkMyrQGM9dl_"
      },
      "source": [
        "from sklearn.metrics import r2_score\n",
        "import sklearn.metrics as metrics\n",
        "print('r2_score:',r2_score(y_test, y_pred2))\n",
        "print('Mean abolute error is:', metrics.mean_absolute_error(y_test,y_pred2))\n",
        "print('Mean squared error is:', metrics.mean_squared_error(y_test,y_pred2))\n",
        "print('Root mean squared error is:', np.sqrt(metrics.mean_squared_error(y_test,y_pred2)))"
      ],
      "execution_count": null,
      "outputs": []
    },
    {
      "cell_type": "markdown",
      "metadata": {
        "id": "9E_TSPYPHXRA"
      },
      "source": [
        "## Decision Tree"
      ]
    },
    {
      "cell_type": "code",
      "metadata": {
        "id": "W7NgAZQkHbsa"
      },
      "source": [
        "from sklearn.tree import DecisionTreeRegressor\n",
        "regressor3 = DecisionTreeRegressor(random_state = 0)\n",
        "regressor3.fit(X_train, y_train)"
      ],
      "execution_count": null,
      "outputs": []
    },
    {
      "cell_type": "code",
      "metadata": {
        "id": "JU20HfdKHfRZ"
      },
      "source": [
        "y_pred3 = sc_y.inverse_transform(regressor3.predict(sc_X.transform(X_test)))\n",
        "# np.set_printoptions(precision=2)\n",
        "for ele in range(len(y_pred3)):\n",
        "  if(y_pred3[ele]<0):\n",
        "    y_pred3[ele] = 0\n",
        "print(np.concatenate((y_pred3.reshape(len(y_pred3),1), y_test.reshape(len(y_test),1)),1))"
      ],
      "execution_count": null,
      "outputs": []
    },
    {
      "cell_type": "code",
      "metadata": {
        "id": "DEe-C13UHkP7"
      },
      "source": [
        "from sklearn.metrics import r2_score\n",
        "r2_score(y_test, y_pred3)"
      ],
      "execution_count": null,
      "outputs": []
    },
    {
      "cell_type": "markdown",
      "metadata": {
        "id": "qJcZ_6unGyq7"
      },
      "source": [
        "# Random Forrest"
      ]
    },
    {
      "cell_type": "code",
      "metadata": {
        "id": "3Cz-7ez8G41Z"
      },
      "source": [
        "from sklearn.ensemble import RandomForestRegressor\n",
        "regressor4 = RandomForestRegressor(n_estimators = 10, random_state = 0)\n",
        "regressor4.fit(X_train, y_train)"
      ],
      "execution_count": null,
      "outputs": []
    },
    {
      "cell_type": "code",
      "metadata": {
        "id": "vMQaB7ehHAmL"
      },
      "source": [
        "y_pred4 = sc_y.inverse_transform(regressor4.predict(sc_X.transform(X_test)))\n",
        "np.set_printoptions(precision=2)\n",
        "for ele in range(len(y_pred4)):\n",
        "  if(y_pred4[ele]<0):\n",
        "    y_pred4[ele] = 0\n",
        "print(np.concatenate((y_pred4.reshape(len(y_pred4),1), y_test.reshape(len(y_test),1)),1))"
      ],
      "execution_count": null,
      "outputs": []
    },
    {
      "cell_type": "code",
      "metadata": {
        "id": "102s_gz7HFDR"
      },
      "source": [
        "from sklearn.metrics import r2_score\n",
        "r2_score(y_test, y_pred4)"
      ],
      "execution_count": null,
      "outputs": []
    },
    {
      "cell_type": "markdown",
      "metadata": {
        "id": "JsWI-ZbcJDxT"
      },
      "source": [
        "# Boosting"
      ]
    },
    {
      "cell_type": "code",
      "metadata": {
        "id": "u0e3of-bJH1-"
      },
      "source": [
        "from xgboost import XGBRegressor\n",
        "regressor5 = XGBRegressor()\n",
        "regressor5.fit(X_train, y_train)\n",
        "y_pred5 = sc_y.inverse_transform(regressor5.predict(sc_X.transform(X_test)))\n",
        "for ele in range(len(y_pred5)):\n",
        "  if(y_pred5[ele]<0):\n",
        "    y_pred5[ele] = 0"
      ],
      "execution_count": null,
      "outputs": []
    },
    {
      "cell_type": "code",
      "metadata": {
        "id": "IPzhCiFgJ_LX"
      },
      "source": [
        "np.set_printoptions(precision=2)\n",
        "print(np.concatenate((y_pred5.reshape(len(y_pred5),1), y_test.reshape(len(y_test),1)),1))"
      ],
      "execution_count": null,
      "outputs": []
    },
    {
      "cell_type": "code",
      "metadata": {
        "id": "982jpmFjKBEq"
      },
      "source": [
        "from sklearn.metrics import r2_score\n",
        "r2_score(y_test, y_pred5)"
      ],
      "execution_count": null,
      "outputs": []
    },
    {
      "cell_type": "markdown",
      "metadata": {
        "id": "dt-OIr8l_ORH"
      },
      "source": [
        "# Cross Validation"
      ]
    },
    {
      "cell_type": "code",
      "metadata": {
        "id": "LlyemNxy_SrL"
      },
      "source": [
        "from sklearn.model_selection import cross_val_score\n",
        "accuracies = cross_val_score(estimator = regressor4, X = X_train, y = y_train, cv = 10)\n",
        "print(\"Accuracy: {:.2f} %\".format(accuracies.mean()*100))\n",
        "print(\"Standard Deviation: {:.2f} %\".format(accuracies.std()*100))"
      ],
      "execution_count": null,
      "outputs": []
    },
    {
      "cell_type": "markdown",
      "metadata": {
        "id": "IXM5Aqwt-GJI"
      },
      "source": [
        "#Predictng Results"
      ]
    },
    {
      "cell_type": "code",
      "metadata": {
        "id": "MBS44Wr1ZQjz"
      },
      "source": [
        "C =  30000.0\n",
        "I =  0.01\n",
        "D =  0.05\n",
        "K =  0.8\n",
        "  \n",
        "EIL = C/ (Live_cotton_Price * I * D * K)\n",
        "print(EIL)"
      ],
      "execution_count": null,
      "outputs": []
    },
    {
      "cell_type": "markdown",
      "metadata": {
        "id": "sGS2RBx7AJh6"
      },
      "source": [
        "## Taking a sample data"
      ]
    },
    {
      "cell_type": "code",
      "metadata": {
        "id": "H7FbQIe1AOL6"
      },
      "source": [
        "X_predict = [[1.0,\t0.0,\t0.0,\t1.0,\t0.0,\t0.0,\t0.0,\t1.0,\t0.0,\t0.0,\t0.0,\t0.0,\t0.0,\t0.0,\t31.38571428571429,\t22.585714285714285,\t62.4,\t84.71428571428571,\t63.142857142857146,\t0.0,\t0.0]]\n",
        "X_predictSC = sc_X.fit_transform(X_predict)\n",
        "y_predict = sc_y.inverse_transform(regressor4.predict(X_predictSC))\n",
        "print(y_predict*1000)"
      ],
      "execution_count": null,
      "outputs": []
    },
    {
      "cell_type": "code",
      "metadata": {
        "id": "b3xwwIpJGxIi"
      },
      "source": [
        "if y_predict*100>EIL:\n",
        "  print('Crop has crossed EIL, start preventive measures')\n",
        "else:\n",
        "  print('Crop has not crossed EIL')"
      ],
      "execution_count": null,
      "outputs": []
    }
  ]
}